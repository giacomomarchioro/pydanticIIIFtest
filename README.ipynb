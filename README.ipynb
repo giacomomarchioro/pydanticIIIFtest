{
 "cells": [
  {
   "cell_type": "markdown",
   "id": "complex-steps",
   "metadata": {},
   "source": [
    "# IIIF pydantic\n",
    "\n",
    "First we download the JSON schema:"
   ]
  },
  {
   "cell_type": "code",
   "execution_count": 1,
   "id": "comprehensive-legislation",
   "metadata": {},
   "outputs": [],
   "source": [
    "import os\n",
    "import jsonschema\n",
    "import json\n",
    "if not os.path.exists('iiif_3_0.json'):\n",
    "    import urllib.request\n",
    "    jsonchemadownloadurl = r\"https://raw.githubusercontent.com/IIIF/presentation-validator/master/schema/iiif_3_0.json\"\n",
    "    with urllib.request.urlopen(jsonchemadownloadurl) as response, open(\"iiif_3_0.json\", 'wb') as out_file:\n",
    "        data = response.read()\n",
    "        out_file.write(data)"
   ]
  },
  {
   "cell_type": "markdown",
   "id": "wound-representation",
   "metadata": {},
   "source": [
    "Then we install pydantinc and datamodel-code-generator we are using also \n",
    "`--use-schema-description`:\n",
    "```\n",
    "pip install pydantic\n",
    "pip install datamodel-code-generator\n",
    "datamodel-codegen  --input iiif_3_0.json --input-file-type jsonschema --output iiifprezi3.py --use-schema-description\n",
    "```\n",
    "\n",
    "Now we got a mapping of iiif_3_0.json to iiifprezi3.py"
   ]
  },
  {
   "cell_type": "code",
   "execution_count": 2,
   "id": "accepted-printer",
   "metadata": {},
   "outputs": [],
   "source": [
    "from iiifprezi3 import Manifest\n",
    "manifest = Manifest()\n",
    "manifest.id = 'test_id'\n",
    "manifest.logo = 123\n",
    "# Were is the validation?"
   ]
  },
  {
   "cell_type": "code",
   "execution_count": 3,
   "id": "robust-target",
   "metadata": {},
   "outputs": [
    {
     "data": {
      "text/plain": [
       "{'id': 'test_id',\n",
       " 'type': None,\n",
       " 'label': None,\n",
       " 'metadata': None,\n",
       " 'summary': None,\n",
       " 'requiredStatement': None,\n",
       " 'rendering': None,\n",
       " 'service': None,\n",
       " 'viewingDirection': None,\n",
       " 'rights': None,\n",
       " 'start': None,\n",
       " 'logo': 123,\n",
       " 'navDate': None,\n",
       " 'provider': None,\n",
       " 'seeAlso': None,\n",
       " 'thumbnail': None,\n",
       " 'homepage': None,\n",
       " 'behavior': None,\n",
       " 'partOf': None,\n",
       " 'items': None,\n",
       " 'structures': None,\n",
       " 'annotations': None}"
      ]
     },
     "execution_count": 3,
     "metadata": {},
     "output_type": "execute_result"
    }
   ],
   "source": [
    "manifest.dict()"
   ]
  },
  {
   "cell_type": "markdown",
   "id": "finnish-neighborhood",
   "metadata": {},
   "source": [
    "Maybe --validation flag is helpful?\n",
    "```\n",
    "datamodel-codegen  --input iiif_3_0.json --input-file-type jsonschema --output iiifprezi3_validation.py --validation --use-schema-description\n",
    "```\n",
    "It seems not.."
   ]
  },
  {
   "cell_type": "code",
   "execution_count": 4,
   "id": "expanded-confidence",
   "metadata": {},
   "outputs": [
    {
     "ename": "ValidationError",
     "evalue": "1 validation error for Manifest\nlogo\n  value is not a valid list (type=type_error.list)",
     "output_type": "error",
     "traceback": [
      "\u001b[0;31m---------------------------------------------------------------------------\u001b[0m",
      "\u001b[0;31mValidationError\u001b[0m                           Traceback (most recent call last)",
      "\u001b[0;32m<ipython-input-4-439ff89bbfda>\u001b[0m in \u001b[0;36m<module>\u001b[0;34m\u001b[0m\n\u001b[1;32m      1\u001b[0m \u001b[0;31m# validation is done only when the object is instanciated\u001b[0m\u001b[0;34m\u001b[0m\u001b[0;34m\u001b[0m\u001b[0;34m\u001b[0m\u001b[0m\n\u001b[1;32m      2\u001b[0m \u001b[0;32mfrom\u001b[0m \u001b[0miiifprezi3\u001b[0m \u001b[0;32mimport\u001b[0m \u001b[0mManifest\u001b[0m\u001b[0;34m\u001b[0m\u001b[0;34m\u001b[0m\u001b[0m\n\u001b[0;32m----> 3\u001b[0;31m \u001b[0mmanifest\u001b[0m \u001b[0;34m=\u001b[0m \u001b[0mManifest\u001b[0m\u001b[0;34m(\u001b[0m\u001b[0mid\u001b[0m\u001b[0;34m=\u001b[0m\u001b[0;34m'test'\u001b[0m\u001b[0;34m,\u001b[0m\u001b[0mlogo\u001b[0m\u001b[0;34m=\u001b[0m\u001b[0;36m123\u001b[0m\u001b[0;34m)\u001b[0m\u001b[0;34m\u001b[0m\u001b[0;34m\u001b[0m\u001b[0m\n\u001b[0m",
      "\u001b[0;32m/opt/anaconda3/lib/python3.8/site-packages/pydantic/main.cpython-38-darwin.so\u001b[0m in \u001b[0;36mpydantic.main.BaseModel.__init__\u001b[0;34m()\u001b[0m\n",
      "\u001b[0;31mValidationError\u001b[0m: 1 validation error for Manifest\nlogo\n  value is not a valid list (type=type_error.list)"
     ]
    }
   ],
   "source": [
    "# validation is done only when the object is instanciated\n",
    "from iiifprezi3 import Manifest\n",
    "manifest = Manifest(id='test',logo=123)"
   ]
  },
  {
   "cell_type": "code",
   "execution_count": 5,
   "id": "occupational-tender",
   "metadata": {},
   "outputs": [],
   "source": [
    "manifest = Manifest(id='test',\n",
    "                    type='Manifest',\n",
    "                    # why  this label is okay without language?\n",
    "                    label='my label',)"
   ]
  },
  {
   "cell_type": "code",
   "execution_count": 6,
   "id": "frequent-influence",
   "metadata": {},
   "outputs": [
    {
     "data": {
      "text/plain": [
       "{'id': 'test',\n",
       " 'type': 'Manifest',\n",
       " 'label': 'my label',\n",
       " 'metadata': None,\n",
       " 'summary': None,\n",
       " 'requiredStatement': None,\n",
       " 'rendering': None,\n",
       " 'service': None,\n",
       " 'viewingDirection': None,\n",
       " 'rights': None,\n",
       " 'start': None,\n",
       " 'logo': None,\n",
       " 'navDate': None,\n",
       " 'provider': None,\n",
       " 'seeAlso': None,\n",
       " 'thumbnail': None,\n",
       " 'homepage': None,\n",
       " 'behavior': None,\n",
       " 'partOf': None,\n",
       " 'items': None,\n",
       " 'structures': None,\n",
       " 'annotations': None}"
      ]
     },
     "execution_count": 6,
     "metadata": {},
     "output_type": "execute_result"
    }
   ],
   "source": [
    "manifest.dict()"
   ]
  },
  {
   "cell_type": "markdown",
   "id": "agreed-vertex",
   "metadata": {},
   "source": [
    "It seems that we have to add:\n",
    "```python\n",
    "    class Config:\n",
    "        validate_assignment = True\n",
    "```       \n",
    "To the classes:\n",
    "```python\n",
    "class Class(BaseModel):\n",
    "    id: Id\n",
    "    type: str\n",
    "    label: Optional[LngString] = None\n",
    "\n",
    "    class Config:\n",
    "        validate_assignment = True\n",
    "``` \n",
    "It works for the Class:"
   ]
  },
  {
   "cell_type": "code",
   "execution_count": 7,
   "id": "informational-administration",
   "metadata": {},
   "outputs": [
    {
     "ename": "ValidationError",
     "evalue": "1 validation error for Class\nid -> __root__\n  invalid or missing URL scheme (type=value_error.url.scheme)",
     "output_type": "error",
     "traceback": [
      "\u001b[0;31m---------------------------------------------------------------------------\u001b[0m",
      "\u001b[0;31mValidationError\u001b[0m                           Traceback (most recent call last)",
      "\u001b[0;32m<ipython-input-7-00bb8080b430>\u001b[0m in \u001b[0;36m<module>\u001b[0;34m\u001b[0m\n\u001b[1;32m      1\u001b[0m \u001b[0;32mfrom\u001b[0m \u001b[0miiifprezi3_validation\u001b[0m \u001b[0;32mimport\u001b[0m \u001b[0mClass\u001b[0m\u001b[0;34m\u001b[0m\u001b[0;34m\u001b[0m\u001b[0m\n\u001b[1;32m      2\u001b[0m \u001b[0mcl\u001b[0m \u001b[0;34m=\u001b[0m \u001b[0mClass\u001b[0m\u001b[0;34m(\u001b[0m\u001b[0mid\u001b[0m\u001b[0;34m=\u001b[0m\u001b[0;34m'https://example.org/iiif/book1/canvas/p'\u001b[0m\u001b[0;34m,\u001b[0m\u001b[0mtype\u001b[0m\u001b[0;34m=\u001b[0m\u001b[0;34m'mytype'\u001b[0m\u001b[0;34m)\u001b[0m\u001b[0;34m\u001b[0m\u001b[0;34m\u001b[0m\u001b[0m\n\u001b[0;32m----> 3\u001b[0;31m \u001b[0mcl\u001b[0m\u001b[0;34m.\u001b[0m\u001b[0mid\u001b[0m \u001b[0;34m=\u001b[0m \u001b[0;36m123\u001b[0m\u001b[0;34m\u001b[0m\u001b[0;34m\u001b[0m\u001b[0m\n\u001b[0m",
      "\u001b[0;32m/opt/anaconda3/lib/python3.8/site-packages/pydantic/main.cpython-38-darwin.so\u001b[0m in \u001b[0;36mpydantic.main.BaseModel.__setattr__\u001b[0;34m()\u001b[0m\n",
      "\u001b[0;31mValidationError\u001b[0m: 1 validation error for Class\nid -> __root__\n  invalid or missing URL scheme (type=value_error.url.scheme)"
     ]
    }
   ],
   "source": [
    "from iiifprezi3_validation import Class\n",
    "cl = Class(id='https://example.org/iiif/book1/canvas/p',type='mytype')\n",
    "cl.id = 123"
   ]
  },
  {
   "cell_type": "markdown",
   "id": "considered-metro",
   "metadata": {},
   "source": [
    "But it seems is not inherited by the Manifest ID but for the other fields seems working:"
   ]
  },
  {
   "cell_type": "code",
   "execution_count": 10,
   "id": "equipped-prototype",
   "metadata": {},
   "outputs": [
    {
     "ename": "ValidationError",
     "evalue": "1 validation error for Manifest\nsummary\n  value is not a valid dict (type=type_error.dict)",
     "output_type": "error",
     "traceback": [
      "\u001b[0;31m---------------------------------------------------------------------------\u001b[0m",
      "\u001b[0;31mValidationError\u001b[0m                           Traceback (most recent call last)",
      "\u001b[0;32m<ipython-input-10-71df3534c2c3>\u001b[0m in \u001b[0;36m<module>\u001b[0;34m\u001b[0m\n\u001b[1;32m      6\u001b[0m                     )\n\u001b[1;32m      7\u001b[0m \u001b[0mmanifest\u001b[0m\u001b[0;34m.\u001b[0m\u001b[0mid\u001b[0m\u001b[0;34m=\u001b[0m\u001b[0;36m123\u001b[0m\u001b[0;34m\u001b[0m\u001b[0;34m\u001b[0m\u001b[0m\n\u001b[0;32m----> 8\u001b[0;31m \u001b[0mmanifest\u001b[0m\u001b[0;34m.\u001b[0m\u001b[0msummary\u001b[0m \u001b[0;34m=\u001b[0m \u001b[0;36m123\u001b[0m\u001b[0;34m\u001b[0m\u001b[0;34m\u001b[0m\u001b[0m\n\u001b[0m",
      "\u001b[0;32m/opt/anaconda3/lib/python3.8/site-packages/pydantic/main.cpython-38-darwin.so\u001b[0m in \u001b[0;36mpydantic.main.BaseModel.__setattr__\u001b[0;34m()\u001b[0m\n",
      "\u001b[0;31mValidationError\u001b[0m: 1 validation error for Manifest\nsummary\n  value is not a valid dict (type=type_error.dict)"
     ]
    }
   ],
   "source": [
    "from iiifprezi3_validation import Manifest\n",
    "manifest = Manifest(id='test',\n",
    "                    type='Manifest',\n",
    "                    # why  this label is okay without language?\n",
    "                    label='my label',\n",
    "                    )\n",
    "manifest.id=123\n",
    "manifest.summary = 123"
   ]
  },
  {
   "cell_type": "markdown",
   "id": "reduced-kuwait",
   "metadata": {},
   "source": [
    "Even if I try to set it directly inside the class:"
   ]
  },
  {
   "cell_type": "code",
   "execution_count": 11,
   "id": "under-costa",
   "metadata": {},
   "outputs": [],
   "source": [
    "from iiifprezi3_validation import ManifestWithConfig\n",
    "manifest = ManifestWithConfig(id='test',\n",
    "                    type='Manifest',\n",
    "                    # why  this label is okay without language?\n",
    "                    label='my label',)\n",
    "manifest.id=123\n"
   ]
  },
  {
   "cell_type": "code",
   "execution_count": 12,
   "id": "advisory-audience",
   "metadata": {},
   "outputs": [
    {
     "data": {
      "text/plain": [
       "True"
      ]
     },
     "execution_count": 12,
     "metadata": {},
     "output_type": "execute_result"
    }
   ],
   "source": [
    "manifest.__config__.validate_assignment"
   ]
  },
  {
   "cell_type": "code",
   "execution_count": 13,
   "id": "extensive-memory",
   "metadata": {},
   "outputs": [
    {
     "data": {
      "text/plain": [
       "ManifestWithConfig(id=123, type='Manifest', label='my label', metadata=None, summary=None, requiredStatement=None, rendering=None, service=None, viewingDirection=None, rights=None, start=None, logo=None, navDate=None, provider=None, seeAlso=None, thumbnail=None, homepage=None, behavior=None, partOf=None, items=None, structures=None, annotations=None)"
      ]
     },
     "execution_count": 13,
     "metadata": {},
     "output_type": "execute_result"
    }
   ],
   "source": [
    "manifest"
   ]
  },
  {
   "cell_type": "code",
   "execution_count": 14,
   "id": "allied-toolbox",
   "metadata": {},
   "outputs": [
    {
     "ename": "ValidationError",
     "evalue": "1 validation error for ManifestWithConfig\nsummary\n  value is not a valid dict (type=type_error.dict)",
     "output_type": "error",
     "traceback": [
      "\u001b[0;31m---------------------------------------------------------------------------\u001b[0m",
      "\u001b[0;31mValidationError\u001b[0m                           Traceback (most recent call last)",
      "\u001b[0;32m<ipython-input-14-2a08e7838cec>\u001b[0m in \u001b[0;36m<module>\u001b[0;34m\u001b[0m\n\u001b[0;32m----> 1\u001b[0;31m \u001b[0mmanifest\u001b[0m\u001b[0;34m.\u001b[0m\u001b[0msummary\u001b[0m \u001b[0;34m=\u001b[0m \u001b[0;36m123\u001b[0m\u001b[0;34m\u001b[0m\u001b[0;34m\u001b[0m\u001b[0m\n\u001b[0m",
      "\u001b[0;32m/opt/anaconda3/lib/python3.8/site-packages/pydantic/main.cpython-38-darwin.so\u001b[0m in \u001b[0;36mpydantic.main.BaseModel.__setattr__\u001b[0;34m()\u001b[0m\n",
      "\u001b[0;31mValidationError\u001b[0m: 1 validation error for ManifestWithConfig\nsummary\n  value is not a valid dict (type=type_error.dict)"
     ]
    }
   ],
   "source": [
    "manifest.summary = 123"
   ]
  },
  {
   "cell_type": "markdown",
   "id": "intermediate-insert",
   "metadata": {},
   "source": [
    "Also setting it globally did  work onlly partially:\n",
    "```python\n",
    "class BaseModel(PydanticBaseModel):\n",
    "    class Config:\n",
    "         validate_assignment = True\n",
    "```\n",
    "This works for all the class that inherits directly from `BaseModel` but still not for Manifest ID."
   ]
  },
  {
   "cell_type": "code",
   "execution_count": 15,
   "id": "rising-imaging",
   "metadata": {},
   "outputs": [
    {
     "ename": "ValidationError",
     "evalue": "2 validation errors for Choice\ntype\n  field required (type=value_error.missing)\nitems\n  field required (type=value_error.missing)",
     "output_type": "error",
     "traceback": [
      "\u001b[0;31m---------------------------------------------------------------------------\u001b[0m",
      "\u001b[0;31mValidationError\u001b[0m                           Traceback (most recent call last)",
      "\u001b[0;32m<ipython-input-15-19c11f4273fe>\u001b[0m in \u001b[0;36m<module>\u001b[0;34m\u001b[0m\n\u001b[1;32m      1\u001b[0m \u001b[0;32mfrom\u001b[0m \u001b[0miiifprezi3_validation_global\u001b[0m \u001b[0;32mimport\u001b[0m \u001b[0mChoice\u001b[0m\u001b[0;34m\u001b[0m\u001b[0;34m\u001b[0m\u001b[0m\n\u001b[1;32m      2\u001b[0m \u001b[0mch\u001b[0m \u001b[0;34m=\u001b[0m \u001b[0mChoice\u001b[0m\u001b[0;34m(\u001b[0m\u001b[0mtype\u001b[0m\u001b[0;34m=\u001b[0m\u001b[0;34m'test'\u001b[0m\u001b[0;34m,\u001b[0m\u001b[0mitems\u001b[0m\u001b[0;34m=\u001b[0m\u001b[0;34m[\u001b[0m\u001b[0;34m'1'\u001b[0m\u001b[0;34m]\u001b[0m\u001b[0;34m)\u001b[0m\u001b[0;34m\u001b[0m\u001b[0;34m\u001b[0m\u001b[0m\n\u001b[0;32m----> 3\u001b[0;31m \u001b[0mch\u001b[0m\u001b[0;34m.\u001b[0m\u001b[0mtype\u001b[0m \u001b[0;34m=\u001b[0m \u001b[0mChoice\u001b[0m\u001b[0;34m(\u001b[0m\u001b[0;34m)\u001b[0m\u001b[0;34m\u001b[0m\u001b[0;34m\u001b[0m\u001b[0m\n\u001b[0m",
      "\u001b[0;32m/opt/anaconda3/lib/python3.8/site-packages/pydantic/main.cpython-38-darwin.so\u001b[0m in \u001b[0;36mpydantic.main.BaseModel.__init__\u001b[0;34m()\u001b[0m\n",
      "\u001b[0;31mValidationError\u001b[0m: 2 validation errors for Choice\ntype\n  field required (type=value_error.missing)\nitems\n  field required (type=value_error.missing)"
     ]
    }
   ],
   "source": [
    "from iiifprezi3_validation_global import Choice\n",
    "ch = Choice(type='test',items=['1'])\n",
    "ch.type = Choice()"
   ]
  },
  {
   "cell_type": "markdown",
   "id": "liked-solution",
   "metadata": {},
   "source": [
    "Using `@dataclass(config=MyConfig)` produces an error:"
   ]
  },
  {
   "cell_type": "code",
   "execution_count": 20,
   "id": "breathing-abraham",
   "metadata": {},
   "outputs": [],
   "source": [
    "# Uncomment @dataclass(config=MyConfig) in iiifprezi3_validation.py first\n",
    "from iiifprezi3_validation import ManifestWithDataclassDecorator\n",
    "manifest = Manifest()"
   ]
  },
  {
   "cell_type": "code",
   "execution_count": 21,
   "id": "nasty-middle",
   "metadata": {},
   "outputs": [],
   "source": [
    "manifest.id = 123"
   ]
  },
  {
   "cell_type": "markdown",
   "id": "proud-rally",
   "metadata": {},
   "source": [
    "# Creating ad hoc setter methods\n",
    "Extending the classes following Mike methods:"
   ]
  },
  {
   "cell_type": "code",
   "execution_count": 10,
   "id": "ambient-dancing",
   "metadata": {},
   "outputs": [],
   "source": [
    "from iiifprezi3 import *\n",
    "# better to use a class for the configuration...\n",
    "global BASEURL\n",
    "BASEURL = 'http'\n",
    "\n",
    "class Manifest(Manifest):\n",
    "     \n",
    "    def set_id(self,id=None,extend_baseurl=None):\n",
    "        \"\"\"Basic helper function to extend the ID\n",
    "        \"\"\"\n",
    "        if extend_baseurl:\n",
    "            if id:\n",
    "                raise ValueError(\n",
    "                    \"Set id using extendbase_url or id not both.\")\n",
    "            else:\n",
    "                self.id = \"\".join((BASEURL,extend_baseurl))\n",
    "        else:\n",
    "            if id is None:\n",
    "                raise ValueError(\n",
    "                    \"Use id or extend_baseurl for setting id.\")\n",
    "            else:\n",
    "                self.id = id\n",
    "                \n",
    "    def add_canvas_to_items(self,Canvasid):\n",
    "        if self.items is None:\n",
    "            self.items = []\n",
    "        newcavas = Canvas(id=Canvasid)\n",
    "        self.items.append(newcavas)\n",
    "        return newcavas"
   ]
  },
  {
   "cell_type": "code",
   "execution_count": 11,
   "id": "peaceful-gothic",
   "metadata": {},
   "outputs": [],
   "source": [
    "manifest = Manifest()\n",
    "manifest.set_id(extend_baseurl='myurl')\n",
    "cnv = manifest.add_canvas_to_items('https://example.org/iiif/book1/canvas/p')"
   ]
  },
  {
   "cell_type": "code",
   "execution_count": null,
   "id": "aquatic-poison",
   "metadata": {},
   "outputs": [],
   "source": []
  },
  {
   "cell_type": "code",
   "execution_count": 12,
   "id": "linear-toilet",
   "metadata": {},
   "outputs": [
    {
     "data": {
      "text/plain": [
       "{'id': 'httpmyurl',\n",
       " 'type': None,\n",
       " 'label': None,\n",
       " 'metadata': None,\n",
       " 'summary': None,\n",
       " 'requiredStatement': None,\n",
       " 'rendering': None,\n",
       " 'service': None,\n",
       " 'viewingDirection': None,\n",
       " 'rights': None,\n",
       " 'start': None,\n",
       " 'logo': None,\n",
       " 'navDate': None,\n",
       " 'provider': None,\n",
       " 'seeAlso': None,\n",
       " 'thumbnail': None,\n",
       " 'homepage': None,\n",
       " 'behavior': None,\n",
       " 'partOf': None,\n",
       " 'items': [{'id': AnyUrl('https://example.org/iiif/book1/canvas/p', scheme='https', host='example.org', tld='org', host_type='domain', path='/iiif/book1/canvas/p'),\n",
       "   'type': None,\n",
       "   'label': None,\n",
       "   'height': None,\n",
       "   'width': None,\n",
       "   'duration': None,\n",
       "   'metadata': None,\n",
       "   'summary': None,\n",
       "   'requiredStatement': None,\n",
       "   'rights': None,\n",
       "   'navDate': None,\n",
       "   'provider': None,\n",
       "   'seeAlso': None,\n",
       "   'thumbnail': None,\n",
       "   'homepage': None,\n",
       "   'behavior': None,\n",
       "   'partOf': None,\n",
       "   'items': None,\n",
       "   'annotations': None}],\n",
       " 'structures': None,\n",
       " 'annotations': None}"
      ]
     },
     "execution_count": 12,
     "metadata": {},
     "output_type": "execute_result"
    }
   ],
   "source": [
    "manifest.dict()"
   ]
  },
  {
   "cell_type": "code",
   "execution_count": 13,
   "id": "illegal-coordinate",
   "metadata": {},
   "outputs": [],
   "source": [
    "cnv.summary = 'test summary'"
   ]
  },
  {
   "cell_type": "code",
   "execution_count": 14,
   "id": "reduced-browser",
   "metadata": {},
   "outputs": [
    {
     "data": {
      "text/plain": [
       "{'id': 'httpmyurl',\n",
       " 'type': None,\n",
       " 'label': None,\n",
       " 'metadata': None,\n",
       " 'summary': None,\n",
       " 'requiredStatement': None,\n",
       " 'rendering': None,\n",
       " 'service': None,\n",
       " 'viewingDirection': None,\n",
       " 'rights': None,\n",
       " 'start': None,\n",
       " 'logo': None,\n",
       " 'navDate': None,\n",
       " 'provider': None,\n",
       " 'seeAlso': None,\n",
       " 'thumbnail': None,\n",
       " 'homepage': None,\n",
       " 'behavior': None,\n",
       " 'partOf': None,\n",
       " 'items': [{'id': AnyUrl('https://example.org/iiif/book1/canvas/p', scheme='https', host='example.org', tld='org', host_type='domain', path='/iiif/book1/canvas/p'),\n",
       "   'type': None,\n",
       "   'label': None,\n",
       "   'height': None,\n",
       "   'width': None,\n",
       "   'duration': None,\n",
       "   'metadata': None,\n",
       "   'summary': 'test summary',\n",
       "   'requiredStatement': None,\n",
       "   'rights': None,\n",
       "   'navDate': None,\n",
       "   'provider': None,\n",
       "   'seeAlso': None,\n",
       "   'thumbnail': None,\n",
       "   'homepage': None,\n",
       "   'behavior': None,\n",
       "   'partOf': None,\n",
       "   'items': None,\n",
       "   'annotations': None}],\n",
       " 'structures': None,\n",
       " 'annotations': None}"
      ]
     },
     "execution_count": 14,
     "metadata": {},
     "output_type": "execute_result"
    }
   ],
   "source": [
    "manifest.dict()"
   ]
  },
  {
   "cell_type": "code",
   "execution_count": null,
   "id": "excellent-authority",
   "metadata": {},
   "outputs": [],
   "source": []
  },
  {
   "cell_type": "code",
   "execution_count": null,
   "id": "vanilla-master",
   "metadata": {},
   "outputs": [],
   "source": []
  }
 ],
 "metadata": {
  "kernelspec": {
   "display_name": "Python 3",
   "language": "python",
   "name": "python3"
  },
  "language_info": {
   "codemirror_mode": {
    "name": "ipython",
    "version": 3
   },
   "file_extension": ".py",
   "mimetype": "text/x-python",
   "name": "python",
   "nbconvert_exporter": "python",
   "pygments_lexer": "ipython3",
   "version": "3.8.3"
  }
 },
 "nbformat": 4,
 "nbformat_minor": 5
}
