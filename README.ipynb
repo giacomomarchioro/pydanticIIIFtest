{
 "cells": [
  {
   "cell_type": "markdown",
   "id": "proper-extreme",
   "metadata": {},
   "source": [
    "# IIIF pydantic\n",
    "\n",
    "First we download the JSON schema:"
   ]
  },
  {
   "cell_type": "code",
   "execution_count": 19,
   "id": "analyzed-uncle",
   "metadata": {},
   "outputs": [],
   "source": [
    "import os\n",
    "import jsonschema\n",
    "import json\n",
    "if not os.path.exists('iiif_3_0.json'):\n",
    "    import urllib.request\n",
    "    jsonchemadownloadurl = r\"https://raw.githubusercontent.com/IIIF/presentation-validator/master/schema/iiif_3_0.json\"\n",
    "    with urllib.request.urlopen(jsonchemadownloadurl) as response, open(\"iiif_3_0.json\", 'wb') as out_file:\n",
    "        data = response.read()\n",
    "        out_file.write(data)"
   ]
  },
  {
   "cell_type": "markdown",
   "id": "latin-stereo",
   "metadata": {},
   "source": [
    "Then we install pydantinc and datamodel-code-generator\n",
    "```\n",
    "pip install pydantic\n",
    "pip install datamodel-code-generator\n",
    "datamodel-codegen  --input iiif_3_0.json --input-file-type jsonschema --output iiifprezi3.py --use-schema-description\n",
    "```\n",
    "\n",
    "Now we got a mapping of iiif_3_0.json to iiifprezi3.py"
   ]
  },
  {
   "cell_type": "code",
   "execution_count": 37,
   "id": "general-train",
   "metadata": {},
   "outputs": [],
   "source": [
    "from iiifprezi3 import Manifest\n",
    "manifest = Manifest()\n",
    "manifest.id = 'test_id'\n",
    "manifest.logo = 123\n",
    "# Were is the validation?"
   ]
  },
  {
   "cell_type": "code",
   "execution_count": 21,
   "id": "primary-guide",
   "metadata": {},
   "outputs": [
    {
     "data": {
      "text/plain": [
       "{'id': 'test_id',\n",
       " 'type': None,\n",
       " 'label': None,\n",
       " 'metadata': None,\n",
       " 'summary': None,\n",
       " 'requiredStatement': None,\n",
       " 'rendering': None,\n",
       " 'service': None,\n",
       " 'viewingDirection': None,\n",
       " 'rights': None,\n",
       " 'start': None,\n",
       " 'logo': 123,\n",
       " 'navDate': None,\n",
       " 'provider': None,\n",
       " 'seeAlso': None,\n",
       " 'thumbnail': None,\n",
       " 'homepage': None,\n",
       " 'behavior': None,\n",
       " 'partOf': None,\n",
       " 'items': None,\n",
       " 'structures': None,\n",
       " 'annotations': None}"
      ]
     },
     "execution_count": 21,
     "metadata": {},
     "output_type": "execute_result"
    }
   ],
   "source": [
    "manifest.dict()"
   ]
  },
  {
   "cell_type": "markdown",
   "id": "indirect-motor",
   "metadata": {},
   "source": [
    "datamodel-codegen  --input iiif_3_0.json --input-file-type jsonschema --output iiifprezi3_validation.py --validation --use-schema-description"
   ]
  },
  {
   "cell_type": "code",
   "execution_count": 10,
   "id": "arctic-champagne",
   "metadata": {},
   "outputs": [
    {
     "ename": "ValidationError",
     "evalue": "1 validation error for Manifest\nlogo\n  value is not a valid list (type=type_error.list)",
     "output_type": "error",
     "traceback": [
      "\u001b[0;31m---------------------------------------------------------------------------\u001b[0m",
      "\u001b[0;31mValidationError\u001b[0m                           Traceback (most recent call last)",
      "\u001b[0;32m<ipython-input-10-186e604ccc99>\u001b[0m in \u001b[0;36m<module>\u001b[0;34m\u001b[0m\n\u001b[1;32m      1\u001b[0m \u001b[0;32mfrom\u001b[0m \u001b[0miiifprezi3\u001b[0m \u001b[0;32mimport\u001b[0m \u001b[0mManifest\u001b[0m\u001b[0;34m\u001b[0m\u001b[0;34m\u001b[0m\u001b[0m\n\u001b[0;32m----> 2\u001b[0;31m \u001b[0mmanifest\u001b[0m \u001b[0;34m=\u001b[0m \u001b[0mManifest\u001b[0m\u001b[0;34m(\u001b[0m\u001b[0mid\u001b[0m\u001b[0;34m=\u001b[0m\u001b[0;34m'test'\u001b[0m\u001b[0;34m,\u001b[0m\u001b[0mlogo\u001b[0m\u001b[0;34m=\u001b[0m\u001b[0;36m123\u001b[0m\u001b[0;34m)\u001b[0m\u001b[0;34m\u001b[0m\u001b[0;34m\u001b[0m\u001b[0m\n\u001b[0m",
      "\u001b[0;32m/opt/anaconda3/lib/python3.8/site-packages/pydantic/main.cpython-38-darwin.so\u001b[0m in \u001b[0;36mpydantic.main.BaseModel.__init__\u001b[0;34m()\u001b[0m\n",
      "\u001b[0;31mValidationError\u001b[0m: 1 validation error for Manifest\nlogo\n  value is not a valid list (type=type_error.list)"
     ]
    }
   ],
   "source": [
    "from iiifprezi3 import Manifest\n",
    "manifest = Manifest(id='test',logo=123)"
   ]
  },
  {
   "cell_type": "code",
   "execution_count": 18,
   "id": "white-affiliation",
   "metadata": {},
   "outputs": [
    {
     "ename": "ValidationError",
     "evalue": "1 validation error for Manifest\nmetadata -> __root__\n  value is not a valid list (type=type_error.list)",
     "output_type": "error",
     "traceback": [
      "\u001b[0;31m---------------------------------------------------------------------------\u001b[0m",
      "\u001b[0;31mValidationError\u001b[0m                           Traceback (most recent call last)",
      "\u001b[0;32m<ipython-input-18-631f84c7c535>\u001b[0m in \u001b[0;36m<module>\u001b[0;34m\u001b[0m\n\u001b[0;32m----> 1\u001b[0;31m manifest = Manifest(id='test',\n\u001b[0m\u001b[1;32m      2\u001b[0m                     \u001b[0mtype\u001b[0m\u001b[0;34m=\u001b[0m\u001b[0;34m'Manifest'\u001b[0m\u001b[0;34m,\u001b[0m\u001b[0;34m\u001b[0m\u001b[0;34m\u001b[0m\u001b[0m\n\u001b[1;32m      3\u001b[0m                     \u001b[0mlabel\u001b[0m\u001b[0;34m=\u001b[0m\u001b[0;34m'my label'\u001b[0m\u001b[0;34m,\u001b[0m\u001b[0;34m\u001b[0m\u001b[0;34m\u001b[0m\u001b[0m\n\u001b[1;32m      4\u001b[0m                     metadata='my metadata')\n",
      "\u001b[0;32m/opt/anaconda3/lib/python3.8/site-packages/pydantic/main.cpython-38-darwin.so\u001b[0m in \u001b[0;36mpydantic.main.BaseModel.__init__\u001b[0;34m()\u001b[0m\n",
      "\u001b[0;31mValidationError\u001b[0m: 1 validation error for Manifest\nmetadata -> __root__\n  value is not a valid list (type=type_error.list)"
     ]
    }
   ],
   "source": [
    "manifest = Manifest(id='test',\n",
    "                    type='Manifest',\n",
    "                    # why  this label is okay?\n",
    "                    label='my label',)"
   ]
  },
  {
   "cell_type": "code",
   "execution_count": 17,
   "id": "adopted-danger",
   "metadata": {},
   "outputs": [
    {
     "data": {
      "text/plain": [
       "{'id': 'test',\n",
       " 'type': 'Manifest',\n",
       " 'label': 'my label',\n",
       " 'metadata': None,\n",
       " 'summary': None,\n",
       " 'requiredStatement': None,\n",
       " 'rendering': None,\n",
       " 'service': None,\n",
       " 'viewingDirection': None,\n",
       " 'rights': None,\n",
       " 'start': None,\n",
       " 'logo': None,\n",
       " 'navDate': None,\n",
       " 'provider': None,\n",
       " 'seeAlso': None,\n",
       " 'thumbnail': None,\n",
       " 'homepage': None,\n",
       " 'behavior': None,\n",
       " 'partOf': None,\n",
       " 'items': None,\n",
       " 'structures': None,\n",
       " 'annotations': None}"
      ]
     },
     "execution_count": 17,
     "metadata": {},
     "output_type": "execute_result"
    }
   ],
   "source": [
    "manifest.dict()"
   ]
  },
  {
   "cell_type": "markdown",
   "id": "twelve-gabriel",
   "metadata": {},
   "source": [
    "Extending the classes:"
   ]
  },
  {
   "cell_type": "code",
   "execution_count": 40,
   "id": "velvet-pierre",
   "metadata": {},
   "outputs": [],
   "source": [
    "from iiifprezi3 import *\n",
    "# better to use a class for the configuration...\n",
    "global BASEURL\n",
    "BASEURL = 'http'\n",
    "\n",
    "class Manifest(Manifest):\n",
    "\n",
    "    def set_id(self,id=None,extend_baseurl=None):\n",
    "        if extend_baseurl:\n",
    "            if id:\n",
    "                raise ValueError(\n",
    "                    \"Set id using extendbase_url or id not both.\")\n",
    "            else:\n",
    "                self.id = \"\".join((BASEURL,extend_baseurl))\n",
    "        else:\n",
    "            if id is None:\n",
    "                raise ValueError(\n",
    "                    \"Use id or extend_baseurl for setting id.\")\n",
    "            else:\n",
    "                self.id = id\n",
    "                \n",
    "    def add_canvas_to_items(self,Canvasid):\n",
    "        if self.items is None:\n",
    "            self.items = []\n",
    "        newcavas = Canvas(id=Canvasid)\n",
    "        self.items.append(newcavas)\n",
    "        return newcavas"
   ]
  },
  {
   "cell_type": "code",
   "execution_count": 41,
   "id": "static-johnston",
   "metadata": {},
   "outputs": [],
   "source": [
    "manifest = Manifest()\n",
    "manifest.set_id(extend_baseurl='myurl')\n",
    "cnv = manifest.add_canvas_to_items('https://example.org/iiif/book1/canvas/p')"
   ]
  },
  {
   "cell_type": "code",
   "execution_count": 42,
   "id": "ordered-notification",
   "metadata": {},
   "outputs": [
    {
     "data": {
      "text/plain": [
       "{'id': 'httpmyurl',\n",
       " 'type': None,\n",
       " 'label': None,\n",
       " 'metadata': None,\n",
       " 'summary': None,\n",
       " 'requiredStatement': None,\n",
       " 'rendering': None,\n",
       " 'service': None,\n",
       " 'viewingDirection': None,\n",
       " 'rights': None,\n",
       " 'start': None,\n",
       " 'logo': None,\n",
       " 'navDate': None,\n",
       " 'provider': None,\n",
       " 'seeAlso': None,\n",
       " 'thumbnail': None,\n",
       " 'homepage': None,\n",
       " 'behavior': None,\n",
       " 'partOf': None,\n",
       " 'items': [{'id': AnyUrl('https://example.org/iiif/book1/canvas/p', scheme='https', host='example.org', tld='org', host_type='domain', path='/iiif/book1/canvas/p'),\n",
       "   'type': None,\n",
       "   'label': None,\n",
       "   'height': None,\n",
       "   'width': None,\n",
       "   'duration': None,\n",
       "   'metadata': None,\n",
       "   'summary': None,\n",
       "   'requiredStatement': None,\n",
       "   'rights': None,\n",
       "   'navDate': None,\n",
       "   'provider': None,\n",
       "   'seeAlso': None,\n",
       "   'thumbnail': None,\n",
       "   'homepage': None,\n",
       "   'behavior': None,\n",
       "   'partOf': None,\n",
       "   'items': None,\n",
       "   'annotations': None}],\n",
       " 'structures': None,\n",
       " 'annotations': None}"
      ]
     },
     "execution_count": 42,
     "metadata": {},
     "output_type": "execute_result"
    }
   ],
   "source": [
    "manifest.dict()"
   ]
  },
  {
   "cell_type": "code",
   "execution_count": 34,
   "id": "cloudy-pottery",
   "metadata": {},
   "outputs": [],
   "source": [
    "cnv.summary = 'test summary'"
   ]
  },
  {
   "cell_type": "code",
   "execution_count": 36,
   "id": "introductory-wrestling",
   "metadata": {},
   "outputs": [
    {
     "data": {
      "text/plain": [
       "{'id': 'httpmyurl',\n",
       " 'type': None,\n",
       " 'label': None,\n",
       " 'metadata': None,\n",
       " 'summary': None,\n",
       " 'requiredStatement': None,\n",
       " 'rendering': None,\n",
       " 'service': None,\n",
       " 'viewingDirection': None,\n",
       " 'rights': None,\n",
       " 'start': None,\n",
       " 'logo': None,\n",
       " 'navDate': None,\n",
       " 'provider': None,\n",
       " 'seeAlso': None,\n",
       " 'thumbnail': None,\n",
       " 'homepage': None,\n",
       " 'behavior': None,\n",
       " 'partOf': None,\n",
       " 'items': [{'id': AnyUrl('https://example.org/iiif/book1/canvas/p', scheme='https', host='example.org', tld='org', host_type='domain', path='/iiif/book1/canvas/p'),\n",
       "   'type': None,\n",
       "   'label': None,\n",
       "   'height': None,\n",
       "   'width': None,\n",
       "   'duration': None,\n",
       "   'metadata': None,\n",
       "   'summary': 'test summary',\n",
       "   'requiredStatement': None,\n",
       "   'rights': None,\n",
       "   'navDate': None,\n",
       "   'provider': None,\n",
       "   'seeAlso': None,\n",
       "   'thumbnail': None,\n",
       "   'homepage': None,\n",
       "   'behavior': None,\n",
       "   'partOf': None,\n",
       "   'items': None,\n",
       "   'annotations': None}],\n",
       " 'structures': None,\n",
       " 'annotations': None}"
      ]
     },
     "execution_count": 36,
     "metadata": {},
     "output_type": "execute_result"
    }
   ],
   "source": [
    "manifest.dict()"
   ]
  },
  {
   "cell_type": "code",
   "execution_count": null,
   "id": "spanish-extension",
   "metadata": {},
   "outputs": [],
   "source": []
  }
 ],
 "metadata": {
  "kernelspec": {
   "display_name": "Python 3",
   "language": "python",
   "name": "python3"
  },
  "language_info": {
   "codemirror_mode": {
    "name": "ipython",
    "version": 3
   },
   "file_extension": ".py",
   "mimetype": "text/x-python",
   "name": "python",
   "nbconvert_exporter": "python",
   "pygments_lexer": "ipython3",
   "version": "3.8.3"
  }
 },
 "nbformat": 4,
 "nbformat_minor": 5
}
