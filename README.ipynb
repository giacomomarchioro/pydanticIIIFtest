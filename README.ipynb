{
 "cells": [
  {
   "cell_type": "markdown",
   "id": "higher-shell",
   "metadata": {},
   "source": [
    "# IIIF pydantic\n",
    "\n",
    "First we download the JSON schema:"
   ]
  },
  {
   "cell_type": "code",
   "execution_count": 22,
   "id": "robust-spirituality",
   "metadata": {},
   "outputs": [],
   "source": [
    "import os\n",
    "import jsonschema\n",
    "import json\n",
    "if not os.path.exists('iiif_3_0.json'):\n",
    "    import urllib.request\n",
    "    jsonchemadownloadurl = r\"https://raw.githubusercontent.com/IIIF/presentation-validator/master/schema/iiif_3_0.json\"\n",
    "    with urllib.request.urlopen(jsonchemadownloadurl) as response, open(\"iiif_3_0.json\", 'wb') as out_file:\n",
    "        data = response.read()\n",
    "        out_file.write(data)"
   ]
  },
  {
   "cell_type": "markdown",
   "id": "exceptional-poetry",
   "metadata": {},
   "source": [
    "Then we install pydantinc and datamodel-code-generator we are using also \n",
    "`--use-schema-description`:\n",
    "```\n",
    "pip install pydantic\n",
    "pip install datamodel-code-generator\n",
    "datamodel-codegen  --input iiif_3_0.json --input-file-type jsonschema --output iiifprezi3.py --use-schema-description\n",
    "```\n",
    "\n",
    "Now we got a mapping of iiif_3_0.json to iiifprezi3.py"
   ]
  },
  {
   "cell_type": "code",
   "execution_count": 23,
   "id": "plastic-novelty",
   "metadata": {},
   "outputs": [],
   "source": [
    "from iiifprezi3 import Manifest\n",
    "manifest = Manifest()\n",
    "manifest.id = 'test_id'\n",
    "manifest.logo = 123\n",
    "# Were is the validation?"
   ]
  },
  {
   "cell_type": "code",
   "execution_count": 24,
   "id": "outstanding-bench",
   "metadata": {},
   "outputs": [
    {
     "data": {
      "text/plain": [
       "{'id': 'test_id',\n",
       " 'type': None,\n",
       " 'label': None,\n",
       " 'metadata': None,\n",
       " 'summary': None,\n",
       " 'requiredStatement': None,\n",
       " 'rendering': None,\n",
       " 'service': None,\n",
       " 'viewingDirection': None,\n",
       " 'rights': None,\n",
       " 'start': None,\n",
       " 'logo': 123,\n",
       " 'navDate': None,\n",
       " 'provider': None,\n",
       " 'seeAlso': None,\n",
       " 'thumbnail': None,\n",
       " 'homepage': None,\n",
       " 'behavior': None,\n",
       " 'partOf': None,\n",
       " 'items': None,\n",
       " 'structures': None,\n",
       " 'annotations': None}"
      ]
     },
     "execution_count": 24,
     "metadata": {},
     "output_type": "execute_result"
    }
   ],
   "source": [
    "manifest.dict()"
   ]
  },
  {
   "cell_type": "markdown",
   "id": "miniature-request",
   "metadata": {},
   "source": [
    "Maybe --validation flag is helpful?\n",
    "```\n",
    "datamodel-codegen  --input iiif_3_0.json --input-file-type jsonschema --output iiifprezi3_validation.py --validation --use-schema-description\n",
    "```\n",
    "It seems not.."
   ]
  },
  {
   "cell_type": "code",
   "execution_count": 25,
   "id": "geological-proof",
   "metadata": {},
   "outputs": [
    {
     "ename": "ValidationError",
     "evalue": "1 validation error for Manifest\nlogo\n  value is not a valid list (type=type_error.list)",
     "output_type": "error",
     "traceback": [
      "\u001b[0;31m---------------------------------------------------------------------------\u001b[0m",
      "\u001b[0;31mValidationError\u001b[0m                           Traceback (most recent call last)",
      "\u001b[0;32m<ipython-input-25-439ff89bbfda>\u001b[0m in \u001b[0;36m<module>\u001b[0;34m\u001b[0m\n\u001b[1;32m      1\u001b[0m \u001b[0;31m# validation is done only when the object is instanciated\u001b[0m\u001b[0;34m\u001b[0m\u001b[0;34m\u001b[0m\u001b[0;34m\u001b[0m\u001b[0m\n\u001b[1;32m      2\u001b[0m \u001b[0;32mfrom\u001b[0m \u001b[0miiifprezi3\u001b[0m \u001b[0;32mimport\u001b[0m \u001b[0mManifest\u001b[0m\u001b[0;34m\u001b[0m\u001b[0;34m\u001b[0m\u001b[0m\n\u001b[0;32m----> 3\u001b[0;31m \u001b[0mmanifest\u001b[0m \u001b[0;34m=\u001b[0m \u001b[0mManifest\u001b[0m\u001b[0;34m(\u001b[0m\u001b[0mid\u001b[0m\u001b[0;34m=\u001b[0m\u001b[0;34m'test'\u001b[0m\u001b[0;34m,\u001b[0m\u001b[0mlogo\u001b[0m\u001b[0;34m=\u001b[0m\u001b[0;36m123\u001b[0m\u001b[0;34m)\u001b[0m\u001b[0;34m\u001b[0m\u001b[0;34m\u001b[0m\u001b[0m\n\u001b[0m",
      "\u001b[0;32m/opt/anaconda3/lib/python3.8/site-packages/pydantic/main.cpython-38-darwin.so\u001b[0m in \u001b[0;36mpydantic.main.BaseModel.__init__\u001b[0;34m()\u001b[0m\n",
      "\u001b[0;31mValidationError\u001b[0m: 1 validation error for Manifest\nlogo\n  value is not a valid list (type=type_error.list)"
     ]
    }
   ],
   "source": [
    "# validation is done only when the object is instanciated\n",
    "from iiifprezi3 import Manifest\n",
    "manifest = Manifest(id='test',logo=123)"
   ]
  },
  {
   "cell_type": "code",
   "execution_count": 26,
   "id": "automatic-budget",
   "metadata": {},
   "outputs": [],
   "source": [
    "manifest = Manifest(id='test',\n",
    "                    type='Manifest',\n",
    "                    # why  this label is okay without language?\n",
    "                    label='my label',)"
   ]
  },
  {
   "cell_type": "code",
   "execution_count": 27,
   "id": "incoming-ownership",
   "metadata": {},
   "outputs": [
    {
     "data": {
      "text/plain": [
       "{'id': 'test',\n",
       " 'type': 'Manifest',\n",
       " 'label': 'my label',\n",
       " 'metadata': None,\n",
       " 'summary': None,\n",
       " 'requiredStatement': None,\n",
       " 'rendering': None,\n",
       " 'service': None,\n",
       " 'viewingDirection': None,\n",
       " 'rights': None,\n",
       " 'start': None,\n",
       " 'logo': None,\n",
       " 'navDate': None,\n",
       " 'provider': None,\n",
       " 'seeAlso': None,\n",
       " 'thumbnail': None,\n",
       " 'homepage': None,\n",
       " 'behavior': None,\n",
       " 'partOf': None,\n",
       " 'items': None,\n",
       " 'structures': None,\n",
       " 'annotations': None}"
      ]
     },
     "execution_count": 27,
     "metadata": {},
     "output_type": "execute_result"
    }
   ],
   "source": [
    "manifest.dict()"
   ]
  },
  {
   "cell_type": "markdown",
   "id": "geographic-handling",
   "metadata": {},
   "source": [
    "Extending the classes following Mike methods:"
   ]
  },
  {
   "cell_type": "code",
   "execution_count": 28,
   "id": "ancient-airline",
   "metadata": {},
   "outputs": [],
   "source": [
    "from iiifprezi3 import *\n",
    "# better to use a class for the configuration...\n",
    "global BASEURL\n",
    "BASEURL = 'http'\n",
    "\n",
    "class Manifest(Manifest):\n",
    "\n",
    "    def set_id(self,id=None,extend_baseurl=None):\n",
    "        \"\"\"Basic helper function to extend the ID\n",
    "        \"\"\"\n",
    "        if extend_baseurl:\n",
    "            if id:\n",
    "                raise ValueError(\n",
    "                    \"Set id using extendbase_url or id not both.\")\n",
    "            else:\n",
    "                self.id = \"\".join((BASEURL,extend_baseurl))\n",
    "        else:\n",
    "            if id is None:\n",
    "                raise ValueError(\n",
    "                    \"Use id or extend_baseurl for setting id.\")\n",
    "            else:\n",
    "                self.id = id\n",
    "                \n",
    "    def add_canvas_to_items(self,Canvasid):\n",
    "        if self.items is None:\n",
    "            self.items = []\n",
    "        newcavas = Canvas(id=Canvasid)\n",
    "        self.items.append(newcavas)\n",
    "        return newcavas"
   ]
  },
  {
   "cell_type": "code",
   "execution_count": 29,
   "id": "bottom-saver",
   "metadata": {},
   "outputs": [],
   "source": [
    "manifest = Manifest()\n",
    "manifest.set_id(extend_baseurl='myurl')\n",
    "cnv = manifest.add_canvas_to_items('https://example.org/iiif/book1/canvas/p')"
   ]
  },
  {
   "cell_type": "code",
   "execution_count": 30,
   "id": "cross-mercury",
   "metadata": {},
   "outputs": [
    {
     "data": {
      "text/plain": [
       "{'id': 'httpmyurl',\n",
       " 'type': None,\n",
       " 'label': None,\n",
       " 'metadata': None,\n",
       " 'summary': None,\n",
       " 'requiredStatement': None,\n",
       " 'rendering': None,\n",
       " 'service': None,\n",
       " 'viewingDirection': None,\n",
       " 'rights': None,\n",
       " 'start': None,\n",
       " 'logo': None,\n",
       " 'navDate': None,\n",
       " 'provider': None,\n",
       " 'seeAlso': None,\n",
       " 'thumbnail': None,\n",
       " 'homepage': None,\n",
       " 'behavior': None,\n",
       " 'partOf': None,\n",
       " 'items': [{'id': AnyUrl('https://example.org/iiif/book1/canvas/p', scheme='https', host='example.org', tld='org', host_type='domain', path='/iiif/book1/canvas/p'),\n",
       "   'type': None,\n",
       "   'label': None,\n",
       "   'height': None,\n",
       "   'width': None,\n",
       "   'duration': None,\n",
       "   'metadata': None,\n",
       "   'summary': None,\n",
       "   'requiredStatement': None,\n",
       "   'rights': None,\n",
       "   'navDate': None,\n",
       "   'provider': None,\n",
       "   'seeAlso': None,\n",
       "   'thumbnail': None,\n",
       "   'homepage': None,\n",
       "   'behavior': None,\n",
       "   'partOf': None,\n",
       "   'items': None,\n",
       "   'annotations': None}],\n",
       " 'structures': None,\n",
       " 'annotations': None}"
      ]
     },
     "execution_count": 30,
     "metadata": {},
     "output_type": "execute_result"
    }
   ],
   "source": [
    "manifest.dict()"
   ]
  },
  {
   "cell_type": "code",
   "execution_count": 31,
   "id": "composite-sussex",
   "metadata": {},
   "outputs": [],
   "source": [
    "cnv.summary = 'test summary'"
   ]
  },
  {
   "cell_type": "code",
   "execution_count": 32,
   "id": "invisible-sport",
   "metadata": {},
   "outputs": [
    {
     "data": {
      "text/plain": [
       "{'id': 'httpmyurl',\n",
       " 'type': None,\n",
       " 'label': None,\n",
       " 'metadata': None,\n",
       " 'summary': None,\n",
       " 'requiredStatement': None,\n",
       " 'rendering': None,\n",
       " 'service': None,\n",
       " 'viewingDirection': None,\n",
       " 'rights': None,\n",
       " 'start': None,\n",
       " 'logo': None,\n",
       " 'navDate': None,\n",
       " 'provider': None,\n",
       " 'seeAlso': None,\n",
       " 'thumbnail': None,\n",
       " 'homepage': None,\n",
       " 'behavior': None,\n",
       " 'partOf': None,\n",
       " 'items': [{'id': AnyUrl('https://example.org/iiif/book1/canvas/p', scheme='https', host='example.org', tld='org', host_type='domain', path='/iiif/book1/canvas/p'),\n",
       "   'type': None,\n",
       "   'label': None,\n",
       "   'height': None,\n",
       "   'width': None,\n",
       "   'duration': None,\n",
       "   'metadata': None,\n",
       "   'summary': 'test summary',\n",
       "   'requiredStatement': None,\n",
       "   'rights': None,\n",
       "   'navDate': None,\n",
       "   'provider': None,\n",
       "   'seeAlso': None,\n",
       "   'thumbnail': None,\n",
       "   'homepage': None,\n",
       "   'behavior': None,\n",
       "   'partOf': None,\n",
       "   'items': None,\n",
       "   'annotations': None}],\n",
       " 'structures': None,\n",
       " 'annotations': None}"
      ]
     },
     "execution_count": 32,
     "metadata": {},
     "output_type": "execute_result"
    }
   ],
   "source": [
    "manifest.dict()"
   ]
  },
  {
   "cell_type": "code",
   "execution_count": null,
   "id": "graphic-likelihood",
   "metadata": {},
   "outputs": [],
   "source": []
  },
  {
   "cell_type": "code",
   "execution_count": null,
   "id": "tutorial-computer",
   "metadata": {},
   "outputs": [],
   "source": []
  }
 ],
 "metadata": {
  "kernelspec": {
   "display_name": "Python 3",
   "language": "python",
   "name": "python3"
  },
  "language_info": {
   "codemirror_mode": {
    "name": "ipython",
    "version": 3
   },
   "file_extension": ".py",
   "mimetype": "text/x-python",
   "name": "python",
   "nbconvert_exporter": "python",
   "pygments_lexer": "ipython3",
   "version": "3.8.3"
  }
 },
 "nbformat": 4,
 "nbformat_minor": 5
}
