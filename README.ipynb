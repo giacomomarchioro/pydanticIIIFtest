{
 "cells": [
  {
   "cell_type": "markdown",
   "id": "disciplinary-bermuda",
   "metadata": {},
   "source": [
    "# IIIF pydantic\n",
    "\n",
    "First we download the JSON schema:"
   ]
  },
  {
   "cell_type": "code",
   "execution_count": 1,
   "id": "fewer-barrel",
   "metadata": {},
   "outputs": [],
   "source": [
    "import os\n",
    "import jsonschema\n",
    "import json\n",
    "\n",
    "# these are for testing\n",
    "import unittest\n",
    "from unittest import TestCase\n",
    "from pydantic import ValidationError\n",
    "\n",
    "if not os.path.exists('iiif_3_0.json'):\n",
    "    import urllib.request\n",
    "    jsonchemadownloadurl = r\"https://raw.githubusercontent.com/IIIF/presentation-validator/master/schema/iiif_3_0.json\"\n",
    "    with urllib.request.urlopen(jsonchemadownloadurl) as response, open(\"iiif_3_0.json\", 'wb') as out_file:\n",
    "        data = response.read()\n",
    "        out_file.write(data)"
   ]
  },
  {
   "cell_type": "markdown",
   "id": "radio-denmark",
   "metadata": {},
   "source": [
    "Then we install pydantinc and datamodel-code-generator we are using also \n",
    "`--use-schema-description`:\n",
    "```\n",
    "pip install pydantic\n",
    "pip install datamodel-code-generator\n",
    "datamodel-codegen  --input iiif_3_0.json --input-file-type jsonschema --output iiifprezi3.py --use-schema-description\n",
    "```\n",
    "\n",
    "Now we got a mapping of iiif_3_0.json to iiifprezi3.py"
   ]
  },
  {
   "cell_type": "code",
   "execution_count": 2,
   "id": "scenic-making",
   "metadata": {},
   "outputs": [],
   "source": [
    "from iiifprezi3 import Manifest\n",
    "manifest = Manifest()\n",
    "manifest.id = 'test_id'\n",
    "manifest.logo = 123\n",
    "# Were is the validation?"
   ]
  },
  {
   "cell_type": "code",
   "execution_count": 3,
   "id": "circular-grocery",
   "metadata": {},
   "outputs": [
    {
     "data": {
      "text/plain": [
       "{'id': 'test_id',\n",
       " 'type': None,\n",
       " 'label': None,\n",
       " 'metadata': None,\n",
       " 'summary': None,\n",
       " 'requiredStatement': None,\n",
       " 'rendering': None,\n",
       " 'service': None,\n",
       " 'viewingDirection': None,\n",
       " 'rights': None,\n",
       " 'start': None,\n",
       " 'logo': 123,\n",
       " 'navDate': None,\n",
       " 'provider': None,\n",
       " 'seeAlso': None,\n",
       " 'thumbnail': None,\n",
       " 'homepage': None,\n",
       " 'behavior': None,\n",
       " 'partOf': None,\n",
       " 'items': None,\n",
       " 'structures': None,\n",
       " 'annotations': None}"
      ]
     },
     "execution_count": 3,
     "metadata": {},
     "output_type": "execute_result"
    }
   ],
   "source": [
    "manifest.dict()"
   ]
  },
  {
   "cell_type": "markdown",
   "id": "distinguished-reserve",
   "metadata": {},
   "source": [
    "Maybe --validation flag is helpful?\n",
    "```\n",
    "datamodel-codegen  --input iiif_3_0.json --input-file-type jsonschema --output iiifprezi3_validation.py --validation --use-schema-description\n",
    "```\n",
    "It seems not.."
   ]
  },
  {
   "cell_type": "code",
   "execution_count": 4,
   "id": "involved-caution",
   "metadata": {},
   "outputs": [
    {
     "ename": "ValidationError",
     "evalue": "1 validation error for Manifest\nlogo\n  value is not a valid list (type=type_error.list)",
     "output_type": "error",
     "traceback": [
      "\u001b[0;31m---------------------------------------------------------------------------\u001b[0m",
      "\u001b[0;31mValidationError\u001b[0m                           Traceback (most recent call last)",
      "\u001b[0;32m<ipython-input-4-439ff89bbfda>\u001b[0m in \u001b[0;36m<module>\u001b[0;34m\u001b[0m\n\u001b[1;32m      1\u001b[0m \u001b[0;31m# validation is done only when the object is instanciated\u001b[0m\u001b[0;34m\u001b[0m\u001b[0;34m\u001b[0m\u001b[0;34m\u001b[0m\u001b[0m\n\u001b[1;32m      2\u001b[0m \u001b[0;32mfrom\u001b[0m \u001b[0miiifprezi3\u001b[0m \u001b[0;32mimport\u001b[0m \u001b[0mManifest\u001b[0m\u001b[0;34m\u001b[0m\u001b[0;34m\u001b[0m\u001b[0m\n\u001b[0;32m----> 3\u001b[0;31m \u001b[0mmanifest\u001b[0m \u001b[0;34m=\u001b[0m \u001b[0mManifest\u001b[0m\u001b[0;34m(\u001b[0m\u001b[0mid\u001b[0m\u001b[0;34m=\u001b[0m\u001b[0;34m'test'\u001b[0m\u001b[0;34m,\u001b[0m\u001b[0mlogo\u001b[0m\u001b[0;34m=\u001b[0m\u001b[0;36m123\u001b[0m\u001b[0;34m)\u001b[0m\u001b[0;34m\u001b[0m\u001b[0;34m\u001b[0m\u001b[0m\n\u001b[0m",
      "\u001b[0;32m/opt/anaconda3/lib/python3.8/site-packages/pydantic/main.cpython-38-darwin.so\u001b[0m in \u001b[0;36mpydantic.main.BaseModel.__init__\u001b[0;34m()\u001b[0m\n",
      "\u001b[0;31mValidationError\u001b[0m: 1 validation error for Manifest\nlogo\n  value is not a valid list (type=type_error.list)"
     ]
    }
   ],
   "source": [
    "# validation is done only when the object is instanciated\n",
    "from iiifprezi3 import Manifest\n",
    "manifest = Manifest(id='test',logo=123)"
   ]
  },
  {
   "cell_type": "code",
   "execution_count": 5,
   "id": "arctic-powell",
   "metadata": {},
   "outputs": [],
   "source": [
    "manifest = Manifest(id='test',\n",
    "                    type='Manifest',\n",
    "                    # why  this label is okay without language?\n",
    "                    label='my label',)"
   ]
  },
  {
   "cell_type": "code",
   "execution_count": 6,
   "id": "composed-characterization",
   "metadata": {},
   "outputs": [
    {
     "data": {
      "text/plain": [
       "{'id': 'test',\n",
       " 'type': 'Manifest',\n",
       " 'label': 'my label',\n",
       " 'metadata': None,\n",
       " 'summary': None,\n",
       " 'requiredStatement': None,\n",
       " 'rendering': None,\n",
       " 'service': None,\n",
       " 'viewingDirection': None,\n",
       " 'rights': None,\n",
       " 'start': None,\n",
       " 'logo': None,\n",
       " 'navDate': None,\n",
       " 'provider': None,\n",
       " 'seeAlso': None,\n",
       " 'thumbnail': None,\n",
       " 'homepage': None,\n",
       " 'behavior': None,\n",
       " 'partOf': None,\n",
       " 'items': None,\n",
       " 'structures': None,\n",
       " 'annotations': None}"
      ]
     },
     "execution_count": 6,
     "metadata": {},
     "output_type": "execute_result"
    }
   ],
   "source": [
    "manifest.dict()"
   ]
  },
  {
   "cell_type": "markdown",
   "id": "median-juice",
   "metadata": {},
   "source": [
    "It seems that we have to add:\n",
    "```python\n",
    "    class Config:\n",
    "        validate_assignment = True\n",
    "```       \n",
    "To the classes:\n",
    "```python\n",
    "class Class(BaseModel):\n",
    "    id: Id\n",
    "    type: str\n",
    "    label: Optional[LngString] = None\n",
    "\n",
    "    class Config:\n",
    "        validate_assignment = True\n",
    "``` \n",
    "It works for the Class:"
   ]
  },
  {
   "cell_type": "code",
   "execution_count": 7,
   "id": "electoral-giving",
   "metadata": {},
   "outputs": [
    {
     "ename": "ValidationError",
     "evalue": "1 validation error for Class\nid -> __root__\n  invalid or missing URL scheme (type=value_error.url.scheme)",
     "output_type": "error",
     "traceback": [
      "\u001b[0;31m---------------------------------------------------------------------------\u001b[0m",
      "\u001b[0;31mValidationError\u001b[0m                           Traceback (most recent call last)",
      "\u001b[0;32m<ipython-input-7-00bb8080b430>\u001b[0m in \u001b[0;36m<module>\u001b[0;34m\u001b[0m\n\u001b[1;32m      1\u001b[0m \u001b[0;32mfrom\u001b[0m \u001b[0miiifprezi3_validation\u001b[0m \u001b[0;32mimport\u001b[0m \u001b[0mClass\u001b[0m\u001b[0;34m\u001b[0m\u001b[0;34m\u001b[0m\u001b[0m\n\u001b[1;32m      2\u001b[0m \u001b[0mcl\u001b[0m \u001b[0;34m=\u001b[0m \u001b[0mClass\u001b[0m\u001b[0;34m(\u001b[0m\u001b[0mid\u001b[0m\u001b[0;34m=\u001b[0m\u001b[0;34m'https://example.org/iiif/book1/canvas/p'\u001b[0m\u001b[0;34m,\u001b[0m\u001b[0mtype\u001b[0m\u001b[0;34m=\u001b[0m\u001b[0;34m'mytype'\u001b[0m\u001b[0;34m)\u001b[0m\u001b[0;34m\u001b[0m\u001b[0;34m\u001b[0m\u001b[0m\n\u001b[0;32m----> 3\u001b[0;31m \u001b[0mcl\u001b[0m\u001b[0;34m.\u001b[0m\u001b[0mid\u001b[0m \u001b[0;34m=\u001b[0m \u001b[0;36m123\u001b[0m\u001b[0;34m\u001b[0m\u001b[0;34m\u001b[0m\u001b[0m\n\u001b[0m",
      "\u001b[0;32m/opt/anaconda3/lib/python3.8/site-packages/pydantic/main.cpython-38-darwin.so\u001b[0m in \u001b[0;36mpydantic.main.BaseModel.__setattr__\u001b[0;34m()\u001b[0m\n",
      "\u001b[0;31mValidationError\u001b[0m: 1 validation error for Class\nid -> __root__\n  invalid or missing URL scheme (type=value_error.url.scheme)"
     ]
    }
   ],
   "source": [
    "from iiifprezi3_validation import Class\n",
    "cl = Class(id='https://example.org/iiif/book1/canvas/p',type='mytype')\n",
    "cl.id = 123"
   ]
  },
  {
   "cell_type": "markdown",
   "id": "distinct-chamber",
   "metadata": {},
   "source": [
    "But it seems is not inherited by the Manifest ID but for the other fields seems working:"
   ]
  },
  {
   "cell_type": "code",
   "execution_count": 47,
   "id": "spiritual-orleans",
   "metadata": {},
   "outputs": [],
   "source": [
    "from iiifprezi3_validation import Manifest\n",
    "manifest = Manifest(id='test',\n",
    "                    type='Manifest',\n",
    "                    # why  this label is okay without language?\n",
    "                    label='my label',\n",
    "                    )"
   ]
  },
  {
   "cell_type": "code",
   "execution_count": 48,
   "id": "loaded-johnston",
   "metadata": {},
   "outputs": [
    {
     "name": "stderr",
     "output_type": "stream",
     "text": [
      "testVALID_ID (__main__.TestManifestValidation) ... FAIL\n",
      "testVALID_LABEL (__main__.TestManifestValidation) ... FAIL\n",
      "testVALID_SUMMARY (__main__.TestManifestValidation) ... ok\n",
      "testVALID_ID (__main__.TestNoneTypeError) ... FAIL\n",
      "testVALID_LABEL (__main__.TestNoneTypeError) ... FAIL\n",
      "\n",
      "======================================================================\n",
      "FAIL: testVALID_ID (__main__.TestManifestValidation)\n",
      "----------------------------------------------------------------------\n",
      "Traceback (most recent call last):\n",
      "  File \"<ipython-input-48-916ae051872c>\", line 8, in testVALID_ID\n",
      "    self.manifest.id = 123\n",
      "AssertionError: ValidationError not raised\n",
      "\n",
      "======================================================================\n",
      "FAIL: testVALID_LABEL (__main__.TestManifestValidation)\n",
      "----------------------------------------------------------------------\n",
      "Traceback (most recent call last):\n",
      "  File \"<ipython-input-48-916ae051872c>\", line 15, in testVALID_LABEL\n",
      "    self.manifest.label = 123\n",
      "AssertionError: ValidationError not raised\n",
      "\n",
      "======================================================================\n",
      "FAIL: testVALID_ID (__main__.TestNoneTypeError)\n",
      "----------------------------------------------------------------------\n",
      "Traceback (most recent call last):\n",
      "  File \"<ipython-input-45-45d389cb6f6c>\", line 8, in testVALID_ID\n",
      "    self.manifest.id = 123\n",
      "AssertionError: ValidationError not raised\n",
      "\n",
      "======================================================================\n",
      "FAIL: testVALID_LABEL (__main__.TestNoneTypeError)\n",
      "----------------------------------------------------------------------\n",
      "Traceback (most recent call last):\n",
      "  File \"<ipython-input-45-45d389cb6f6c>\", line 15, in testVALID_LABEL\n",
      "    self.manifest.label = 123\n",
      "AssertionError: ValidationError not raised\n",
      "\n",
      "----------------------------------------------------------------------\n",
      "Ran 5 tests in 0.004s\n",
      "\n",
      "FAILED (failures=4)\n"
     ]
    },
    {
     "data": {
      "text/plain": [
       "<unittest.main.TestProgram at 0x7f9e4f273fd0>"
      ]
     },
     "execution_count": 48,
     "metadata": {},
     "output_type": "execute_result"
    }
   ],
   "source": [
    "class TestManifestValidation(TestCase):\n",
    "  def setUp(self): \n",
    "    self.manifest = Manifest(id=\"https://example.org/about\")\n",
    "\n",
    "    \n",
    "  def testVALID_ID(self):\n",
    "    with self.assertRaises(ValidationError) as ctx:\n",
    "        self.manifest.id = 123\n",
    "    self.assertEqual(\"\"\"1 validation error for Manifest\n",
    "id -> __root__\n",
    "  invalid or missing URL scheme (type=value_error.url.scheme)\"\"\", str(ctx.exception))\n",
    "  \n",
    "  def testVALID_LABEL(self):\n",
    "    with self.assertRaises(ValidationError) as ctx:\n",
    "        self.manifest.label = 123\n",
    "    self.assertEqual(\"\"\"1 validation error for Manifest\n",
    "label\n",
    "  value is not a valid dict (type=type_error.dict)\"\"\", str(ctx.exception))\n",
    "  \n",
    "  def testVALID_SUMMARY(self):\n",
    "    with self.assertRaises(ValidationError) as ctx:\n",
    "        self.manifest.summary = 123\n",
    "    self.assertEqual(\"\"\"1 validation error for Manifest\n",
    "summary\n",
    "  value is not a valid dict (type=type_error.dict)\"\"\", str(ctx.exception))\n",
    "unittest.main(argv=[''], verbosity=2, exit=False)"
   ]
  },
  {
   "cell_type": "markdown",
   "id": "formal-cannon",
   "metadata": {},
   "source": [
    "Even if I try to set it directly inside the class:"
   ]
  },
  {
   "cell_type": "code",
   "execution_count": 9,
   "id": "pressed-final",
   "metadata": {},
   "outputs": [],
   "source": [
    "from iiifprezi3_validation import ManifestWithConfig\n",
    "manifest = ManifestWithConfig(id='test',\n",
    "                    type='Manifest',\n",
    "                    # why  this label is okay without language?\n",
    "                    label='my label',)\n",
    "manifest.id=123\n"
   ]
  },
  {
   "cell_type": "code",
   "execution_count": 10,
   "id": "fewer-rainbow",
   "metadata": {},
   "outputs": [
    {
     "data": {
      "text/plain": [
       "True"
      ]
     },
     "execution_count": 10,
     "metadata": {},
     "output_type": "execute_result"
    }
   ],
   "source": [
    "manifest.__config__.validate_assignment"
   ]
  },
  {
   "cell_type": "code",
   "execution_count": 11,
   "id": "intended-ballot",
   "metadata": {},
   "outputs": [
    {
     "data": {
      "text/plain": [
       "ManifestWithConfig(id=123, type='Manifest', label='my label', metadata=None, summary=None, requiredStatement=None, rendering=None, service=None, viewingDirection=None, rights=None, start=None, logo=None, navDate=None, provider=None, seeAlso=None, thumbnail=None, homepage=None, behavior=None, partOf=None, items=None, structures=None, annotations=None)"
      ]
     },
     "execution_count": 11,
     "metadata": {},
     "output_type": "execute_result"
    }
   ],
   "source": [
    "manifest"
   ]
  },
  {
   "cell_type": "code",
   "execution_count": 12,
   "id": "digital-garden",
   "metadata": {},
   "outputs": [
    {
     "ename": "ValidationError",
     "evalue": "1 validation error for ManifestWithConfig\nsummary\n  value is not a valid dict (type=type_error.dict)",
     "output_type": "error",
     "traceback": [
      "\u001b[0;31m---------------------------------------------------------------------------\u001b[0m",
      "\u001b[0;31mValidationError\u001b[0m                           Traceback (most recent call last)",
      "\u001b[0;32m<ipython-input-12-2a08e7838cec>\u001b[0m in \u001b[0;36m<module>\u001b[0;34m\u001b[0m\n\u001b[0;32m----> 1\u001b[0;31m \u001b[0mmanifest\u001b[0m\u001b[0;34m.\u001b[0m\u001b[0msummary\u001b[0m \u001b[0;34m=\u001b[0m \u001b[0;36m123\u001b[0m\u001b[0;34m\u001b[0m\u001b[0;34m\u001b[0m\u001b[0m\n\u001b[0m",
      "\u001b[0;32m/opt/anaconda3/lib/python3.8/site-packages/pydantic/main.cpython-38-darwin.so\u001b[0m in \u001b[0;36mpydantic.main.BaseModel.__setattr__\u001b[0;34m()\u001b[0m\n",
      "\u001b[0;31mValidationError\u001b[0m: 1 validation error for ManifestWithConfig\nsummary\n  value is not a valid dict (type=type_error.dict)"
     ]
    }
   ],
   "source": [
    "manifest.summary = 123"
   ]
  },
  {
   "cell_type": "markdown",
   "id": "athletic-settlement",
   "metadata": {},
   "source": [
    "Also setting it globally did  work onlly partially:\n",
    "```python\n",
    "class BaseModel(PydanticBaseModel):\n",
    "    class Config:\n",
    "         validate_assignment = True\n",
    "```\n",
    "This works for all the class that inherits directly from `BaseModel` but still not for Manifest ID."
   ]
  },
  {
   "cell_type": "code",
   "execution_count": 13,
   "id": "broad-edition",
   "metadata": {},
   "outputs": [
    {
     "ename": "ValidationError",
     "evalue": "2 validation errors for Choice\ntype\n  field required (type=value_error.missing)\nitems\n  field required (type=value_error.missing)",
     "output_type": "error",
     "traceback": [
      "\u001b[0;31m---------------------------------------------------------------------------\u001b[0m",
      "\u001b[0;31mValidationError\u001b[0m                           Traceback (most recent call last)",
      "\u001b[0;32m<ipython-input-13-19c11f4273fe>\u001b[0m in \u001b[0;36m<module>\u001b[0;34m\u001b[0m\n\u001b[1;32m      1\u001b[0m \u001b[0;32mfrom\u001b[0m \u001b[0miiifprezi3_validation_global\u001b[0m \u001b[0;32mimport\u001b[0m \u001b[0mChoice\u001b[0m\u001b[0;34m\u001b[0m\u001b[0;34m\u001b[0m\u001b[0m\n\u001b[1;32m      2\u001b[0m \u001b[0mch\u001b[0m \u001b[0;34m=\u001b[0m \u001b[0mChoice\u001b[0m\u001b[0;34m(\u001b[0m\u001b[0mtype\u001b[0m\u001b[0;34m=\u001b[0m\u001b[0;34m'test'\u001b[0m\u001b[0;34m,\u001b[0m\u001b[0mitems\u001b[0m\u001b[0;34m=\u001b[0m\u001b[0;34m[\u001b[0m\u001b[0;34m'1'\u001b[0m\u001b[0;34m]\u001b[0m\u001b[0;34m)\u001b[0m\u001b[0;34m\u001b[0m\u001b[0;34m\u001b[0m\u001b[0m\n\u001b[0;32m----> 3\u001b[0;31m \u001b[0mch\u001b[0m\u001b[0;34m.\u001b[0m\u001b[0mtype\u001b[0m \u001b[0;34m=\u001b[0m \u001b[0mChoice\u001b[0m\u001b[0;34m(\u001b[0m\u001b[0;34m)\u001b[0m\u001b[0;34m\u001b[0m\u001b[0;34m\u001b[0m\u001b[0m\n\u001b[0m",
      "\u001b[0;32m/opt/anaconda3/lib/python3.8/site-packages/pydantic/main.cpython-38-darwin.so\u001b[0m in \u001b[0;36mpydantic.main.BaseModel.__init__\u001b[0;34m()\u001b[0m\n",
      "\u001b[0;31mValidationError\u001b[0m: 2 validation errors for Choice\ntype\n  field required (type=value_error.missing)\nitems\n  field required (type=value_error.missing)"
     ]
    }
   ],
   "source": [
    "from iiifprezi3_validation_global import Choice\n",
    "ch = Choice(type='test',items=['1'])\n",
    "ch.type = Choice()"
   ]
  },
  {
   "cell_type": "markdown",
   "id": "adapted-scanner",
   "metadata": {},
   "source": [
    "Using `@dataclass(config=MyConfig)` produces an error:"
   ]
  },
  {
   "cell_type": "code",
   "execution_count": 14,
   "id": "ethical-seating",
   "metadata": {},
   "outputs": [],
   "source": [
    "# Uncomment @dataclass(config=MyConfig) in iiifprezi3_validation.py first\n",
    "from iiifprezi3_validation import ManifestWithDataclassDecorator\n",
    "manifest = Manifest()"
   ]
  },
  {
   "cell_type": "code",
   "execution_count": 15,
   "id": "medical-discovery",
   "metadata": {},
   "outputs": [],
   "source": [
    "manifest.id = 123"
   ]
  },
  {
   "cell_type": "markdown",
   "id": "geographic-senator",
   "metadata": {},
   "source": [
    "# Creating ad hoc setter methods\n",
    "Extending the classes following Mike methods:"
   ]
  },
  {
   "cell_type": "code",
   "execution_count": 16,
   "id": "unexpected-refund",
   "metadata": {},
   "outputs": [],
   "source": [
    "from iiifprezi3 import *\n",
    "# better to use a class for the configuration...\n",
    "global BASEURL\n",
    "BASEURL = 'http'\n",
    "\n",
    "class Manifest(Manifest):\n",
    "     \n",
    "    def set_id(self,id=None,extend_baseurl=None):\n",
    "        \"\"\"Basic helper function to extend the ID\n",
    "        \"\"\"\n",
    "        if extend_baseurl:\n",
    "            if id:\n",
    "                raise ValueError(\n",
    "                    \"Set id using extendbase_url or id not both.\")\n",
    "            else:\n",
    "                self.id = \"\".join((BASEURL,extend_baseurl))\n",
    "        else:\n",
    "            if id is None:\n",
    "                raise ValueError(\n",
    "                    \"Use id or extend_baseurl for setting id.\")\n",
    "            else:\n",
    "                self.id = id\n",
    "                \n",
    "    def add_canvas_to_items(self,Canvasid):\n",
    "        if self.items is None:\n",
    "            self.items = []\n",
    "        newcavas = Canvas(id=Canvasid)\n",
    "        self.items.append(newcavas)\n",
    "        return newcavas"
   ]
  },
  {
   "cell_type": "code",
   "execution_count": 17,
   "id": "phantom-albany",
   "metadata": {},
   "outputs": [],
   "source": [
    "manifest = Manifest()\n",
    "manifest.set_id(extend_baseurl='myurl')\n",
    "cnv = manifest.add_canvas_to_items('https://example.org/iiif/book1/canvas/p')"
   ]
  },
  {
   "cell_type": "code",
   "execution_count": null,
   "id": "certain-bedroom",
   "metadata": {},
   "outputs": [],
   "source": []
  },
  {
   "cell_type": "code",
   "execution_count": 18,
   "id": "transparent-jurisdiction",
   "metadata": {},
   "outputs": [
    {
     "data": {
      "text/plain": [
       "{'id': 'httpmyurl',\n",
       " 'type': None,\n",
       " 'label': None,\n",
       " 'metadata': None,\n",
       " 'summary': None,\n",
       " 'requiredStatement': None,\n",
       " 'rendering': None,\n",
       " 'service': None,\n",
       " 'viewingDirection': None,\n",
       " 'rights': None,\n",
       " 'start': None,\n",
       " 'logo': None,\n",
       " 'navDate': None,\n",
       " 'provider': None,\n",
       " 'seeAlso': None,\n",
       " 'thumbnail': None,\n",
       " 'homepage': None,\n",
       " 'behavior': None,\n",
       " 'partOf': None,\n",
       " 'items': [{'id': AnyUrl('https://example.org/iiif/book1/canvas/p', scheme='https', host='example.org', tld='org', host_type='domain', path='/iiif/book1/canvas/p'),\n",
       "   'type': None,\n",
       "   'label': None,\n",
       "   'height': None,\n",
       "   'width': None,\n",
       "   'duration': None,\n",
       "   'metadata': None,\n",
       "   'summary': None,\n",
       "   'requiredStatement': None,\n",
       "   'rights': None,\n",
       "   'navDate': None,\n",
       "   'provider': None,\n",
       "   'seeAlso': None,\n",
       "   'thumbnail': None,\n",
       "   'homepage': None,\n",
       "   'behavior': None,\n",
       "   'partOf': None,\n",
       "   'items': None,\n",
       "   'annotations': None}],\n",
       " 'structures': None,\n",
       " 'annotations': None}"
      ]
     },
     "execution_count": 18,
     "metadata": {},
     "output_type": "execute_result"
    }
   ],
   "source": [
    "manifest.dict()"
   ]
  },
  {
   "cell_type": "code",
   "execution_count": 19,
   "id": "impressive-greeting",
   "metadata": {},
   "outputs": [],
   "source": [
    "cnv.summary = 'test summary'"
   ]
  },
  {
   "cell_type": "code",
   "execution_count": 20,
   "id": "frequent-thinking",
   "metadata": {},
   "outputs": [
    {
     "data": {
      "text/plain": [
       "{'id': 'httpmyurl',\n",
       " 'type': None,\n",
       " 'label': None,\n",
       " 'metadata': None,\n",
       " 'summary': None,\n",
       " 'requiredStatement': None,\n",
       " 'rendering': None,\n",
       " 'service': None,\n",
       " 'viewingDirection': None,\n",
       " 'rights': None,\n",
       " 'start': None,\n",
       " 'logo': None,\n",
       " 'navDate': None,\n",
       " 'provider': None,\n",
       " 'seeAlso': None,\n",
       " 'thumbnail': None,\n",
       " 'homepage': None,\n",
       " 'behavior': None,\n",
       " 'partOf': None,\n",
       " 'items': [{'id': AnyUrl('https://example.org/iiif/book1/canvas/p', scheme='https', host='example.org', tld='org', host_type='domain', path='/iiif/book1/canvas/p'),\n",
       "   'type': None,\n",
       "   'label': None,\n",
       "   'height': None,\n",
       "   'width': None,\n",
       "   'duration': None,\n",
       "   'metadata': None,\n",
       "   'summary': 'test summary',\n",
       "   'requiredStatement': None,\n",
       "   'rights': None,\n",
       "   'navDate': None,\n",
       "   'provider': None,\n",
       "   'seeAlso': None,\n",
       "   'thumbnail': None,\n",
       "   'homepage': None,\n",
       "   'behavior': None,\n",
       "   'partOf': None,\n",
       "   'items': None,\n",
       "   'annotations': None}],\n",
       " 'structures': None,\n",
       " 'annotations': None}"
      ]
     },
     "execution_count": 20,
     "metadata": {},
     "output_type": "execute_result"
    }
   ],
   "source": [
    "manifest.dict()"
   ]
  },
  {
   "cell_type": "markdown",
   "id": "exclusive-aluminum",
   "metadata": {},
   "source": [
    "# Using a modified version of JSON schema"
   ]
  },
  {
   "cell_type": "code",
   "execution_count": 51,
   "id": "corporate-acoustic",
   "metadata": {},
   "outputs": [],
   "source": [
    "from iiifprezi3_mod import Manifest\n"
   ]
  },
  {
   "cell_type": "code",
   "execution_count": 52,
   "id": "athletic-morgan",
   "metadata": {},
   "outputs": [
    {
     "name": "stderr",
     "output_type": "stream",
     "text": [
      "testVALID_ID (__main__.TestManifestValidation) ... ok\n",
      "testVALID_LABEL (__main__.TestManifestValidation) ... ok\n",
      "testVALID_SUMMARY (__main__.TestManifestValidation) ... ok\n",
      "testVALID_ID (__main__.TestNoneTypeError) ... ok\n",
      "testVALID_LABEL (__main__.TestNoneTypeError) ... ok\n",
      "\n",
      "----------------------------------------------------------------------\n",
      "Ran 5 tests in 0.003s\n",
      "\n",
      "OK\n"
     ]
    },
    {
     "data": {
      "text/plain": [
       "<unittest.main.TestProgram at 0x7f9e4ec849d0>"
      ]
     },
     "execution_count": 52,
     "metadata": {},
     "output_type": "execute_result"
    }
   ],
   "source": [
    "class TestNoneTypeError(TestCase):\n",
    "  def setUp(self): \n",
    "    self.manifest = Manifest(id=\"https://example.org/about\")\n",
    "\n",
    "    \n",
    "  def testVALID_ID(self):\n",
    "    with self.assertRaises(ValidationError) as ctx:\n",
    "        self.manifest.id = 123\n",
    "    self.assertEqual(\"\"\"1 validation error for Manifest\n",
    "id -> __root__\n",
    "  invalid or missing URL scheme (type=value_error.url.scheme)\"\"\", str(ctx.exception))\n",
    "  \n",
    "  def testVALID_LABEL(self):\n",
    "    with self.assertRaises(ValidationError) as ctx:\n",
    "        self.manifest.label = 123\n",
    "    self.assertEqual(\"\"\"1 validation error for Manifest\n",
    "label\n",
    "  value is not a valid dict (type=type_error.dict)\"\"\", str(ctx.exception))\n",
    "unittest.main(argv=[''], verbosity=2, exit=False)"
   ]
  },
  {
   "cell_type": "code",
   "execution_count": 53,
   "id": "continuous-wayne",
   "metadata": {},
   "outputs": [],
   "source": [
    "manifest.label = {\"en\":\"Test label\"}"
   ]
  },
  {
   "cell_type": "code",
   "execution_count": 55,
   "id": "located-omaha",
   "metadata": {},
   "outputs": [
    {
     "data": {
      "text/plain": [
       "'{\"id\": \"test\", \"type\": \"Manifest\", \"label\": {\"en\": \"Test label\"}}'"
      ]
     },
     "execution_count": 55,
     "metadata": {},
     "output_type": "execute_result"
    }
   ],
   "source": [
    "manifest.json(exclude_unset=True) "
   ]
  },
  {
   "cell_type": "code",
   "execution_count": null,
   "id": "conceptual-virgin",
   "metadata": {},
   "outputs": [],
   "source": []
  }
 ],
 "metadata": {
  "kernelspec": {
   "display_name": "Python 3",
   "language": "python",
   "name": "python3"
  },
  "language_info": {
   "codemirror_mode": {
    "name": "ipython",
    "version": 3
   },
   "file_extension": ".py",
   "mimetype": "text/x-python",
   "name": "python",
   "nbconvert_exporter": "python",
   "pygments_lexer": "ipython3",
   "version": "3.8.3"
  }
 },
 "nbformat": 4,
 "nbformat_minor": 5
}
